{
 "cells": [
  {
   "cell_type": "markdown",
   "id": "8027ecb6-134f-4e20-889d-ec81344477d0",
   "metadata": {},
   "source": [
    "## Sampling and Simulation:"
   ]
  },
  {
   "cell_type": "code",
   "execution_count": 2,
   "id": "c6f3fe14-d9f0-4053-8721-0a174382b7ff",
   "metadata": {},
   "outputs": [],
   "source": [
    "import numpy as np"
   ]
  },
  {
   "cell_type": "code",
   "execution_count": 22,
   "id": "b43e5bbc-13fa-4a76-82bf-18cdcef45cf4",
   "metadata": {},
   "outputs": [
    {
     "name": "stdout",
     "output_type": "stream",
     "text": [
      "[ 3 10  7  5  1]\n",
      "[ 8  7 10  3  5]\n"
     ]
    }
   ],
   "source": [
    "# Getting Random Samples (pseudo-random)\n",
    "np.random.seed(1)\n",
    "n = 10\n",
    "how_many = 5\n",
    "random_sample1 = np.random.choice(np.arange(1, n+1), how_many, replace=False) # replace=False for no duplicates/replacement\n",
    "random_sample2 = np.random.choice(np.arange(1, n+1), how_many, replace=True) # replace=True for yes duplicates/replacement\n",
    "print(random_sample1)\n",
    "print(random_sample2)"
   ]
  },
  {
   "cell_type": "code",
   "execution_count": 23,
   "id": "fe04b3d8-a532-41ca-882d-d0614234d2fc",
   "metadata": {},
   "outputs": [
    {
     "name": "stdout",
     "output_type": "stream",
     "text": [
      "[ 1  2  3  4  5  6  7  8  9 10]\n",
      "[ 3 10  7  5  1  4  2  8  9  6]\n"
     ]
    }
   ],
   "source": [
    "# Generating Random Permutation\n",
    "np.random.seed(2) # randomizer\n",
    "\n",
    "m = 1\n",
    "n = 10\n",
    "\n",
    "vector = np.arange(m, n+1)\n",
    "print(vector)\n",
    "\n",
    "np.random.shuffle(vector) # Permutate\n",
    "print(vector)"
   ]
  },
  {
   "cell_type": "code",
   "execution_count": 27,
   "id": "4d0fa279-58e1-441f-855d-8b165596ec69",
   "metadata": {},
   "outputs": [
    {
     "name": "stdout",
     "output_type": "stream",
     "text": [
      "['a', 'b', 'c', 'd', 'e', 'f', 'g', 'h', 'i', 'j', 'k', 'l', 'm', 'n', 'o', 'p', 'q', 'r', 's', 't', 'u', 'v', 'w', 'x', 'y', 'z']\n",
      "srmxpqn\n"
     ]
    }
   ],
   "source": [
    "# Generating Random Letters Permutation\n",
    "np.random.seed(3) # randomizer\n",
    "\n",
    "import string\n",
    "alphabets = list(string.ascii_lowercase)\n",
    "print(alphabets)\n",
    "\n",
    "# randomly choose 7 letters, concatenate into a string\n",
    "seven_random_letters = ''.join(np.random.choice(alphabets, 7, replace=False))\n",
    "print(seven_random_letters)"
   ]
  },
  {
   "cell_type": "code",
   "execution_count": 32,
   "id": "d2b13388-e016-489a-a814-b6b148c7dcef",
   "metadata": {},
   "outputs": [
    {
     "data": {
      "text/plain": [
       "array([1, 3, 1], dtype=int32)"
      ]
     },
     "execution_count": 32,
     "metadata": {},
     "output_type": "execute_result"
    }
   ],
   "source": [
    "# Specifying the probability of getting a certain number\n",
    "np.random.seed(5)\n",
    "np.random.choice(4, 3, replace=True, p=[0.1,0.2,0.3,0.4]) # (range[0,1,2,3]), how_many, replacement/duplicates, probabilities of each nums)"
   ]
  },
  {
   "cell_type": "code",
   "execution_count": null,
   "id": "3b2bea69-9e43-4460-a6c0-862d092b5c47",
   "metadata": {},
   "outputs": [],
   "source": []
  }
 ],
 "metadata": {
  "kernelspec": {
   "display_name": "Python 3 (ipykernel)",
   "language": "python",
   "name": "python3"
  },
  "language_info": {
   "codemirror_mode": {
    "name": "ipython",
    "version": 3
   },
   "file_extension": ".py",
   "mimetype": "text/x-python",
   "name": "python",
   "nbconvert_exporter": "python",
   "pygments_lexer": "ipython3",
   "version": "3.9.9"
  }
 },
 "nbformat": 4,
 "nbformat_minor": 5
}
