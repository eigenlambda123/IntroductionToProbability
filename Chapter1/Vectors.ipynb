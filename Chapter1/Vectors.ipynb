{
 "cells": [
  {
   "cell_type": "code",
   "execution_count": 2,
   "id": "001f5332-5586-4e4b-a3e3-47066ea84b6c",
   "metadata": {},
   "outputs": [],
   "source": [
    "import numpy as np"
   ]
  },
  {
   "cell_type": "markdown",
   "id": "e82bd21e-a3cd-470a-b177-4687cdeda3b3",
   "metadata": {},
   "source": [
    "## Vectors:"
   ]
  },
  {
   "cell_type": "code",
   "execution_count": 3,
   "id": "63b8c59e-4215-46cf-baf5-a681e93bf851",
   "metadata": {},
   "outputs": [
    {
     "name": "stdout",
     "output_type": "stream",
     "text": [
      "[3 1 4 1 5 9]\n"
     ]
    }
   ],
   "source": [
    "vector = np.array([3,1,4,1,5,9])\n",
    "print(vector)"
   ]
  },
  {
   "cell_type": "code",
   "execution_count": 4,
   "id": "eb02dda6-eb56-4055-aca5-d2ef412fe6e7",
   "metadata": {},
   "outputs": [
    {
     "name": "stdout",
     "output_type": "stream",
     "text": [
      "23\n",
      "1\n",
      "9\n",
      "6\n",
      "6\n"
     ]
    }
   ],
   "source": [
    "# Sum, Min, Max\n",
    "print(vector.sum())\n",
    "print(vector.min())\n",
    "print(vector.max())\n",
    "\n",
    "# Length\n",
    "print(vector.size)\n",
    "print(len(vector))"
   ]
  },
  {
   "cell_type": "code",
   "execution_count": 5,
   "id": "609aff7d-9f42-4963-b909-8a27779ae29d",
   "metadata": {},
   "outputs": [
    {
     "name": "stdout",
     "output_type": "stream",
     "text": [
      "[ 1  2  3  4  5  6  7  8  9 10]\n",
      "[10  9  8  7  6  5  4  3  2  1]\n"
     ]
    }
   ],
   "source": [
    "# Generating a sequence (1,2,...,n)\n",
    "m = 1\n",
    "n = 10\n",
    "\n",
    "vector = np.arange(m ,n+1)\n",
    "print(vector)\n",
    "\n",
    "c = np.arange(n, m-1, -1)\n",
    "print(vector_reversed)"
   ]
  },
  {
   "cell_type": "markdown",
   "id": "cfefbf41-8a66-4517-8071-661db65d109f",
   "metadata": {},
   "source": [
    "# Accessing ith element\n",
    "print(vector[0])\n",
    "print(vector[1])\n",
    "print('index 1 in reversed vector:', vector_reversed[1])\n",
    "print('index 9 in reversed vector:',vector_reversed[9])"
   ]
  },
  {
   "cell_type": "code",
   "execution_count": 13,
   "id": "1c8a0b5a-6111-41bb-a86c-1724f13836e2",
   "metadata": {},
   "outputs": [
    {
     "name": "stdout",
     "output_type": "stream",
     "text": [
      "Subset of normal vector: [2 4 6]\n",
      "Subset of reversed vector: [9 7 5]\n",
      "[ 1  2  4  6  8  9 10]\n",
      "[10  9  7  5  3  2  1]\n"
     ]
    }
   ],
   "source": [
    "# Acessing Subset/Subvector\n",
    "\n",
    "target_subset = ([1, 3, 5])\n",
    "print('Subset of normal vector:', vector[target_subset])\n",
    "print('Subset of reversed vector:', vector_reversed[target_subset])\n",
    "\n",
    "# Filtering Using Boolean Indexer\n",
    "boolean_indexer = np.array([True, True, False, True, False, True, False, True, True, True])\n",
    "print(vector[boolean_indexer])\n",
    "print(vector_reversed[boolean_indexer])"
   ]
  },
  {
   "cell_type": "code",
   "execution_count": 17,
   "id": "2f40e01f-3bdb-42f9-baa0-c10bed6ecd73",
   "metadata": {},
   "outputs": [
    {
     "name": "stdout",
     "output_type": "stream",
     "text": [
      "Cubed vector: [   1    8   27   64  125  216  343  512  729 1000]\n",
      "Cubed reversed vector: [1000  729  512  343  216  125   64   27    8    1]\n"
     ]
    }
   ],
   "source": [
    "# Cube\n",
    "print('Cubed vector:', vector**3)\n",
    "print('Cubed reversed vector:',vector_reversed**3)"
   ]
  },
  {
   "cell_type": "code",
   "execution_count": 18,
   "id": "d4cea741-ecc4-4101-89a3-751cb8edf38d",
   "metadata": {},
   "outputs": [
    {
     "data": {
      "text/plain": [
       "array([1.00000000e+00, 2.50000000e-01, 1.11111111e-01, 6.25000000e-02,\n",
       "       4.00000000e-02, 2.77777778e-02, 2.04081633e-02, 1.56250000e-02,\n",
       "       1.23456790e-02, 1.00000000e-02, 8.26446281e-03, 6.94444444e-03,\n",
       "       5.91715976e-03, 5.10204082e-03, 4.44444444e-03, 3.90625000e-03,\n",
       "       3.46020761e-03, 3.08641975e-03, 2.77008310e-03, 2.50000000e-03,\n",
       "       2.26757370e-03, 2.06611570e-03, 1.89035917e-03, 1.73611111e-03,\n",
       "       1.60000000e-03, 1.47928994e-03, 1.37174211e-03, 1.27551020e-03,\n",
       "       1.18906064e-03, 1.11111111e-03, 1.04058273e-03, 9.76562500e-04,\n",
       "       9.18273646e-04, 8.65051903e-04, 8.16326531e-04, 7.71604938e-04,\n",
       "       7.30460190e-04, 6.92520776e-04, 6.57462196e-04, 6.25000000e-04,\n",
       "       5.94883998e-04, 5.66893424e-04, 5.40832883e-04, 5.16528926e-04,\n",
       "       4.93827160e-04, 4.72589792e-04, 4.52693526e-04, 4.34027778e-04,\n",
       "       4.16493128e-04, 4.00000000e-04, 3.84467512e-04, 3.69822485e-04,\n",
       "       3.55998576e-04, 3.42935528e-04, 3.30578512e-04, 3.18877551e-04,\n",
       "       3.07787011e-04, 2.97265161e-04, 2.87273772e-04, 2.77777778e-04,\n",
       "       2.68744961e-04, 2.60145682e-04, 2.51952633e-04, 2.44140625e-04,\n",
       "       2.36686391e-04, 2.29568411e-04, 2.22766763e-04, 2.16262976e-04,\n",
       "       2.10039908e-04, 2.04081633e-04, 1.98373339e-04, 1.92901235e-04,\n",
       "       1.87652468e-04, 1.82615047e-04, 1.77777778e-04, 1.73130194e-04,\n",
       "       1.68662506e-04, 1.64365549e-04, 1.60230732e-04, 1.56250000e-04,\n",
       "       1.52415790e-04, 1.48720999e-04, 1.45158949e-04, 1.41723356e-04,\n",
       "       1.38408304e-04, 1.35208221e-04, 1.32117849e-04, 1.29132231e-04,\n",
       "       1.26246686e-04, 1.23456790e-04, 1.20758363e-04, 1.18147448e-04,\n",
       "       1.15620303e-04, 1.13173382e-04, 1.10803324e-04, 1.08506944e-04,\n",
       "       1.06281220e-04, 1.04123282e-04, 1.02030405e-04, 1.00000000e-04])"
      ]
     },
     "execution_count": 18,
     "metadata": {},
     "output_type": "execute_result"
    }
   ],
   "source": [
    "# Getting the vector (1, 1/(2^2), 1/(3^2),...,1/(100^2))\n",
    "1 / np.arange(1, 101)**2"
   ]
  },
  {
   "cell_type": "code",
   "execution_count": 20,
   "id": "1747cf0c-0460-408d-b935-7c1206f76ebb",
   "metadata": {},
   "outputs": [
    {
     "name": "stdout",
     "output_type": "stream",
     "text": [
      "[ 4  5  6  7  8  9 10 11 12 13]\n",
      "[13 12 11 10  9  8  7  6  5  4]\n"
     ]
    }
   ],
   "source": [
    "# Adding Using Numpy.array\n",
    "print(vector+3)\n",
    "print(vector_reversed+3)"
   ]
  }
 ],
 "metadata": {
  "kernelspec": {
   "display_name": "Python 3 (ipykernel)",
   "language": "python",
   "name": "python3"
  },
  "language_info": {
   "codemirror_mode": {
    "name": "ipython",
    "version": 3
   },
   "file_extension": ".py",
   "mimetype": "text/x-python",
   "name": "python",
   "nbconvert_exporter": "python",
   "pygments_lexer": "ipython3",
   "version": "3.9.9"
  }
 },
 "nbformat": 4,
 "nbformat_minor": 5
}
