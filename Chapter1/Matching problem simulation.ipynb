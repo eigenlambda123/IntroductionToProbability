{
 "cells": [
  {
   "cell_type": "code",
   "execution_count": 1,
   "id": "5f5a1daf-92da-4ff7-9fe6-60aa526a3885",
   "metadata": {},
   "outputs": [],
   "source": [
    "import numpy as np"
   ]
  },
  {
   "cell_type": "code",
   "execution_count": 6,
   "id": "c296f10d-b1d4-407b-81be-633603761076",
   "metadata": {},
   "outputs": [
    {
     "name": "stdout",
     "output_type": "stream",
     "text": [
      "simulated value: 0.63\n",
      "simulated value: 0.63\n"
     ]
    }
   ],
   "source": [
    "# Probability of matching card in Example 1.6.4\n",
    "np.random.seed(1)\n",
    "\n",
    "n = 100 # Number of cards\n",
    "trials = 10000 # Number of trials to simulate.\n",
    "\n",
    "ordered = np.arange(1, n+1)  # Creates an ordered array [1, 2, ..., 100] representing the unshuffled deck.\n",
    "\n",
    "tmp =[]  # List to store the number of matches (cards in their original position) for each trial.\n",
    "for i in range(trials):\n",
    "    shuffled = np.random.permutation(np.arange(1, n+1))  # Creates a new random shuffle of the ordered deck.\n",
    "    m = np.sum(shuffled == ordered) # Counts how many cards are in the same position as in the ordered deck.\n",
    "    tmp.append(m)\n",
    "\n",
    "results = np.array(tmp)\n",
    "\n",
    "ans = np.sum(results >= 1) / trials # Prints the simulated probability\n",
    "expected = 1 - 1/np.e # Prints the theoretical probability\n",
    "\n",
    "print('simulated value: {:.2F}'.format(ans))\n",
    "print('simulated value: {:.2F}'.format(expected))"
   ]
  },
  {
   "cell_type": "code",
   "execution_count": null,
   "id": "fb7ed041-afe3-4a75-ac0f-e7eb6d47e1ca",
   "metadata": {},
   "outputs": [],
   "source": []
  }
 ],
 "metadata": {
  "kernelspec": {
   "display_name": "Python 3 (ipykernel)",
   "language": "python",
   "name": "python3"
  },
  "language_info": {
   "codemirror_mode": {
    "name": "ipython",
    "version": 3
   },
   "file_extension": ".py",
   "mimetype": "text/x-python",
   "name": "python",
   "nbconvert_exporter": "python",
   "pygments_lexer": "ipython3",
   "version": "3.9.9"
  }
 },
 "nbformat": 4,
 "nbformat_minor": 5
}
