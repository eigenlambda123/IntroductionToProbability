{
 "cells": [
  {
   "cell_type": "code",
   "execution_count": 1,
   "id": "9243f03b-4a77-4212-8693-8852fee8786c",
   "metadata": {},
   "outputs": [],
   "source": [
    "import numpy as np"
   ]
  },
  {
   "cell_type": "code",
   "execution_count": 2,
   "id": "41286eb3-e291-495c-ad06-6de4da925bd1",
   "metadata": {},
   "outputs": [
    {
     "data": {
      "text/plain": [
       "np.float64(0.5072972343239857)"
      ]
     },
     "execution_count": 2,
     "metadata": {},
     "output_type": "execute_result"
    }
   ],
   "source": [
    "# Probability of peopl with the same birthday in 23 sample of people\n",
    "\n",
    "k = 23\n",
    "days_in_year = 365\n",
    "\n",
    "numerator = np.arange(days_in_year, days_in_year-k, -1)\n",
    "denominator = np.array([days_in_year]*k)\n",
    "\n",
    "1.0 - np.sum(np.prod(numerator/denominator))"
   ]
  },
  {
   "cell_type": "code",
   "execution_count": 3,
   "id": "f1bea65c-0918-4742-a5e4-db4b2c017573",
   "metadata": {},
   "outputs": [
    {
     "name": "stdout",
     "output_type": "stream",
     "text": [
      "50.7% chance of at least 1 birthday match among 23 people\n",
      "For an approximately 50.0% chance of at least 1 birthday match, we need 23 people\n"
     ]
    }
   ],
   "source": [
    "def pbirthday_naive(n):\n",
    "    \"\"\" Return the probability of at least 1 matching pair of birthdays out of n people.\n",
    "        Assumes 365-day year.\n",
    "    \n",
    "        This is a naive implementation that may overflow or error under certain input.\n",
    "    \"\"\"\n",
    "    days_in_year = 365\n",
    "    if n < 2: # Base Case\n",
    "        return 0.0\n",
    "    elif n > days_in_year: # Edge Case\n",
    "        return 1.0\n",
    "    else:\n",
    "        numer = np.arange(days_in_year, days_in_year-n, -1)\n",
    "        denom = np.array([days_in_year]*n)\n",
    "        return 1.0 - np.sum(np.prod( numer/denom ))\n",
    "\n",
    "def qbirthday_naive(p):\n",
    "    \"\"\" Return an approximation of the number of people required to have at least 1 birthday\n",
    "        match with probability p.\n",
    "        \n",
    "        This naive implemention is based on the Birthday problem article on Wikipedia.\n",
    "        https://en.wikipedia.org/wiki/Birthday_problem\n",
    "    \"\"\"\n",
    "    raw = np.sqrt( 2 * 365 * np.log(1.0 / (1.0-p)) )\n",
    "    return np.ceil(raw).astype(np.int32)\n",
    "\n",
    "n = 23\n",
    "pbirthday_naive_ans = pbirthday_naive(n)\n",
    "print(('{:.1f}% chance of at least 1 birthday match '\n",
    "       'among {} people'.format(pbirthday_naive_ans*100.0, n)))\n",
    "\n",
    "p = 0.50\n",
    "qbirthday_naive_ans = qbirthday_naive(p)\n",
    "print(('For an approximately {:.1f}% chance of at least 1 birthday match, '\n",
    "       'we need {} people'.format(p*100.0, qbirthday_naive_ans)))"
   ]
  }
 ],
 "metadata": {
  "kernelspec": {
   "display_name": "Python 3 (ipykernel)",
   "language": "python",
   "name": "python3"
  },
  "language_info": {
   "codemirror_mode": {
    "name": "ipython",
    "version": 3
   },
   "file_extension": ".py",
   "mimetype": "text/x-python",
   "name": "python",
   "nbconvert_exporter": "python",
   "pygments_lexer": "ipython3",
   "version": "3.9.9"
  }
 },
 "nbformat": 4,
 "nbformat_minor": 5
}
