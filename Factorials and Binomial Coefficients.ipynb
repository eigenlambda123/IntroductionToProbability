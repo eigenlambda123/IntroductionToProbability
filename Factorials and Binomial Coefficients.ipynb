{
 "cells": [
  {
   "cell_type": "markdown",
   "id": "dbe3b3d8-d300-4ad7-813f-a54b3451021d",
   "metadata": {},
   "source": [
    "## Factorials and binomial coefficients:"
   ]
  },
  {
   "cell_type": "code",
   "execution_count": 12,
   "id": "9bc7ebf9-fc3c-49e1-b60e-1dd453c7e033",
   "metadata": {},
   "outputs": [
    {
     "name": "stdout",
     "output_type": "stream",
     "text": [
      "5! = 120.0\n",
      "6 choose 2 = 15.0\n",
      "200! = inf ?\n"
     ]
    }
   ],
   "source": [
    "# Factoring and (n choose k)\n",
    "from scipy.special import factorial, comb\n",
    "\n",
    "print('5! =', factorial(5))\n",
    "print('6 choose 2 =', comb(6, 2)) # (6 choose 2)\n",
    "print('200! =', factorial(200), '?') # inf means infinite"
   ]
  }
 ],
 "metadata": {
  "kernelspec": {
   "display_name": "Python 3 (ipykernel)",
   "language": "python",
   "name": "python3"
  },
  "language_info": {
   "codemirror_mode": {
    "name": "ipython",
    "version": 3
   },
   "file_extension": ".py",
   "mimetype": "text/x-python",
   "name": "python",
   "nbconvert_exporter": "python",
   "pygments_lexer": "ipython3",
   "version": "3.9.9"
  }
 },
 "nbformat": 4,
 "nbformat_minor": 5
}
